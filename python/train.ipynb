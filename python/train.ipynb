{
 "cells": [
  {
   "cell_type": "code",
   "execution_count": 1,
   "source": [
    "import numpy as np\r\n",
    "import tensorflow as tf\r\n",
    "from tensorflow.keras.models import Sequential\r\n",
    "from tensorflow.keras.optimizers import Adam\r\n",
    "from tensorflow.keras.layers import Bidirectional, LSTM, Dropout, Dense, Flatten, InputLayer, Conv1D, MaxPool1D"
   ],
   "outputs": [],
   "metadata": {}
  },
  {
   "cell_type": "code",
   "execution_count": 2,
   "source": [
    "gpus = tf.config.experimental.list_physical_devices('GPU')\r\n",
    "print(gpus)\r\n",
    "for gpu in gpus:\r\n",
    "    tf.config.experimental.set_memory_growth(gpu, True)"
   ],
   "outputs": [
    {
     "output_type": "stream",
     "name": "stdout",
     "text": [
      "[PhysicalDevice(name='/physical_device:GPU:0', device_type='GPU')]\n"
     ]
    }
   ],
   "metadata": {}
  },
  {
   "cell_type": "code",
   "execution_count": 3,
   "source": [
    "FEATURE_LEN = 80000\r\n",
    "INPUT_SHAPE = (FEATURE_LEN, 2)\r\n",
    "LABEL_NUM = 3"
   ],
   "outputs": [],
   "metadata": {}
  },
  {
   "cell_type": "code",
   "execution_count": 4,
   "source": [
    "dataset = np.load('./dataset_inc.npz')\r\n",
    "features = dataset[\"features\"].astype(np.float32) / 32767\r\n",
    "labels = dataset[\"labels\"]"
   ],
   "outputs": [],
   "metadata": {}
  },
  {
   "cell_type": "code",
   "execution_count": 40,
   "source": [
    "def create_bi_rnn_model(feature_len, labels_num):\r\n",
    "    model = Sequential()\r\n",
    "    model.add(InputLayer(input_shape = (feature_len, 2)))\r\n",
    "    # model.add(Bidirectional(LSTM(64, return_sequences = True)))\r\n",
    "    # model.add(Dropout(0.2))\r\n",
    "    # model.add(Bidirectional(LSTM(32, return_sequences = True)))\r\n",
    "    model.add(Bidirectional(LSTM(32, return_sequences = False)))\r\n",
    "    model.add(Dense(16, activation=\"relu\"))\r\n",
    "    model.add(Dropout(0.2))\r\n",
    "    model.add(Dense(labels_num, activation=\"softmax\"))\r\n",
    "\r\n",
    "\r\n",
    "    model.compile(\r\n",
    "        loss = 'categorical_crossentropy', \r\n",
    "        optimizer = Adam(learning_rate = 0.001), \r\n",
    "        metrics = ['acc']\r\n",
    "    )\r\n",
    "    return model"
   ],
   "outputs": [],
   "metadata": {}
  },
  {
   "cell_type": "code",
   "execution_count": 41,
   "source": [
    "def create_rnn_model(feature_len, labels_num):\r\n",
    "    model = Sequential()\r\n",
    "    model.add(InputLayer(input_shape = (feature_len, 2)))\r\n",
    "    # model.add(LSTM(128, return_sequences = True))\r\n",
    "    # model.add(Dropout(0.2))\r\n",
    "    # model.add(LSTM(64, return_sequences = True))\r\n",
    "    # model.add(Dropout(0.2))\r\n",
    "    model.add(LSTM(64, return_sequences = False))\r\n",
    "    model.add(Dropout(0.2))\r\n",
    "    model.add(Dense(32, activation=\"relu\"))\r\n",
    "    model.add(Dropout(0.2))\r\n",
    "    model.add(Dense(labels_num, activation=\"softmax\"))\r\n",
    "\r\n",
    "\r\n",
    "    model.compile(\r\n",
    "        loss = 'categorical_crossentropy', \r\n",
    "        optimizer = Adam(learning_rate = 0.001), \r\n",
    "        metrics = ['acc']\r\n",
    "    )\r\n",
    "    return model"
   ],
   "outputs": [],
   "metadata": {}
  },
  {
   "cell_type": "code",
   "execution_count": 5,
   "source": [
    "def create_cnn_model(feature_len, labels_num):\r\n",
    "    model = Sequential()\r\n",
    "    model.add(InputLayer(input_shape = (feature_len, 2)))\r\n",
    "    model.add(Conv1D(128, (3,), activation=\"relu\", padding=\"same\"))\r\n",
    "    model.add(Dropout(0.2))\r\n",
    "    model.add(MaxPool1D(2))\r\n",
    "    model.add(Conv1D(64, (3,), activation=\"relu\", padding=\"same\"))\r\n",
    "    model.add(Dropout(0.2))\r\n",
    "    model.add(MaxPool1D(2))\r\n",
    "    model.add(Conv1D(32, (3,), activation=\"relu\", padding=\"same\"))\r\n",
    "    model.add(Dropout(0.2))\r\n",
    "    model.add(MaxPool1D(2))\r\n",
    "    model.add(Conv1D(16, (3,), activation=\"relu\", padding=\"same\"))\r\n",
    "    model.add(Dropout(0.2))\r\n",
    "    model.add(MaxPool1D(2))\r\n",
    "    model.add(Conv1D(8, (3,), activation=\"relu\", padding=\"same\"))\r\n",
    "    model.add(Dropout(0.2))\r\n",
    "    model.add(MaxPool1D(2))\r\n",
    "    model.add(Flatten())\r\n",
    "    model.add(Dense(labels_num, activation=\"softmax\"))\r\n",
    "\r\n",
    "    model.compile(\r\n",
    "        loss = 'categorical_crossentropy', \r\n",
    "        optimizer = Adam(learning_rate = 0.001), \r\n",
    "        metrics = ['acc']\r\n",
    "    )\r\n",
    "    return model\r\n"
   ],
   "outputs": [],
   "metadata": {}
  },
  {
   "cell_type": "code",
   "execution_count": 6,
   "source": [
    "model = create_cnn_model(FEATURE_LEN, LABEL_NUM)\r\n",
    "model.summary()"
   ],
   "outputs": [
    {
     "output_type": "stream",
     "name": "stdout",
     "text": [
      "Model: \"sequential\"\n",
      "_________________________________________________________________\n",
      "Layer (type)                 Output Shape              Param #   \n",
      "=================================================================\n",
      "conv1d (Conv1D)              (None, 80000, 128)        896       \n",
      "_________________________________________________________________\n",
      "dropout (Dropout)            (None, 80000, 128)        0         \n",
      "_________________________________________________________________\n",
      "max_pooling1d (MaxPooling1D) (None, 40000, 128)        0         \n",
      "_________________________________________________________________\n",
      "conv1d_1 (Conv1D)            (None, 40000, 64)         24640     \n",
      "_________________________________________________________________\n",
      "dropout_1 (Dropout)          (None, 40000, 64)         0         \n",
      "_________________________________________________________________\n",
      "max_pooling1d_1 (MaxPooling1 (None, 20000, 64)         0         \n",
      "_________________________________________________________________\n",
      "conv1d_2 (Conv1D)            (None, 20000, 32)         6176      \n",
      "_________________________________________________________________\n",
      "dropout_2 (Dropout)          (None, 20000, 32)         0         \n",
      "_________________________________________________________________\n",
      "max_pooling1d_2 (MaxPooling1 (None, 10000, 32)         0         \n",
      "_________________________________________________________________\n",
      "conv1d_3 (Conv1D)            (None, 10000, 16)         1552      \n",
      "_________________________________________________________________\n",
      "dropout_3 (Dropout)          (None, 10000, 16)         0         \n",
      "_________________________________________________________________\n",
      "max_pooling1d_3 (MaxPooling1 (None, 5000, 16)          0         \n",
      "_________________________________________________________________\n",
      "conv1d_4 (Conv1D)            (None, 5000, 8)           392       \n",
      "_________________________________________________________________\n",
      "dropout_4 (Dropout)          (None, 5000, 8)           0         \n",
      "_________________________________________________________________\n",
      "max_pooling1d_4 (MaxPooling1 (None, 2500, 8)           0         \n",
      "_________________________________________________________________\n",
      "flatten (Flatten)            (None, 20000)             0         \n",
      "_________________________________________________________________\n",
      "dense (Dense)                (None, 3)                 60003     \n",
      "=================================================================\n",
      "Total params: 93,659\n",
      "Trainable params: 93,659\n",
      "Non-trainable params: 0\n",
      "_________________________________________________________________\n"
     ]
    }
   ],
   "metadata": {}
  },
  {
   "cell_type": "code",
   "execution_count": 7,
   "source": [
    "model.fit(features[:600], labels[:600], batch_size=20, epochs=10, validation_data=(features[600:], labels[600:]))"
   ],
   "outputs": [
    {
     "output_type": "stream",
     "name": "stdout",
     "text": [
      "Epoch 1/10\n",
      "30/30 [==============================] - 9s 222ms/step - loss: 0.7064 - acc: 0.6917 - val_loss: 0.1410 - val_acc: 0.9808\n",
      "Epoch 2/10\n",
      "30/30 [==============================] - 7s 217ms/step - loss: 0.0948 - acc: 0.9900 - val_loss: 0.0835 - val_acc: 1.0000\n",
      "Epoch 3/10\n",
      "30/30 [==============================] - 6s 213ms/step - loss: 0.0142 - acc: 1.0000 - val_loss: 0.0224 - val_acc: 1.0000\n",
      "Epoch 4/10\n",
      "30/30 [==============================] - 7s 218ms/step - loss: 6.4853e-04 - acc: 1.0000 - val_loss: 0.0106 - val_acc: 1.0000\n",
      "Epoch 5/10\n",
      "30/30 [==============================] - 6s 215ms/step - loss: 1.8935e-04 - acc: 1.0000 - val_loss: 0.0087 - val_acc: 1.0000\n",
      "Epoch 6/10\n",
      "30/30 [==============================] - 6s 213ms/step - loss: 1.0955e-04 - acc: 1.0000 - val_loss: 0.0077 - val_acc: 1.0000\n",
      "Epoch 7/10\n",
      "30/30 [==============================] - 6s 213ms/step - loss: 8.8611e-05 - acc: 1.0000 - val_loss: 0.0064 - val_acc: 1.0000\n",
      "Epoch 8/10\n",
      "30/30 [==============================] - 6s 212ms/step - loss: 8.1786e-05 - acc: 1.0000 - val_loss: 0.0054 - val_acc: 1.0000\n",
      "Epoch 9/10\n",
      "30/30 [==============================] - 6s 206ms/step - loss: 4.7989e-05 - acc: 1.0000 - val_loss: 0.0054 - val_acc: 1.0000\n",
      "Epoch 10/10\n",
      "30/30 [==============================] - 6s 193ms/step - loss: 3.5494e-05 - acc: 1.0000 - val_loss: 0.0052 - val_acc: 1.0000\n"
     ]
    },
    {
     "output_type": "execute_result",
     "data": {
      "text/plain": [
       "<tensorflow.python.keras.callbacks.History at 0x24f67049eb0>"
      ]
     },
     "metadata": {},
     "execution_count": 7
    }
   ],
   "metadata": {}
  },
  {
   "cell_type": "code",
   "execution_count": 13,
   "source": [
    "model.save(\"model.h5\")"
   ],
   "outputs": [],
   "metadata": {}
  },
  {
   "cell_type": "code",
   "execution_count": 8,
   "source": [
    "converter = tf.lite.TFLiteConverter.from_keras_model(model)\r\n",
    "converter.optimizations = [tf.lite.Optimize.DEFAULT]\r\n",
    "converter.target_spec.supported_ops = [tf.lite.OpsSet.EXPERIMENTAL_TFLITE_BUILTINS_ACTIVATIONS_INT16_WEIGHTS_INT8]\r\n",
    "converter.inference_input_type = tf.float32\r\n",
    "converter.inference_output_type = tf.float32"
   ],
   "outputs": [],
   "metadata": {}
  },
  {
   "cell_type": "code",
   "execution_count": 9,
   "source": [
    "emnist_ds = tf.data.Dataset.from_tensor_slices((features)).batch(1)\r\n",
    "\r\n",
    "def representative_data_gen():\r\n",
    "    for input_value in emnist_ds.take(100):\r\n",
    "        yield [input_value]\r\n",
    "    \r\n",
    "converter.representative_dataset = representative_data_gen"
   ],
   "outputs": [],
   "metadata": {}
  },
  {
   "cell_type": "code",
   "execution_count": 12,
   "source": [
    "import pathlib\r\n",
    "\r\n",
    "converted_model = converter.convert()\r\n",
    "\r\n",
    "generated_dir = pathlib.Path(\"generated/\")\r\n",
    "generated_dir.mkdir(exist_ok=True, parents=True)\r\n",
    "converted_model_file = generated_dir/\"DOA_float32.tflite\"\r\n",
    "converted_model_file.write_bytes(converted_model)"
   ],
   "outputs": [
    {
     "output_type": "stream",
     "name": "stdout",
     "text": [
      "INFO:tensorflow:Assets written to: C:\\Users\\OAO\\AppData\\Local\\Temp\\tmpm9xv0z8i\\assets\n"
     ]
    },
    {
     "output_type": "stream",
     "name": "stderr",
     "text": [
      "INFO:tensorflow:Assets written to: C:\\Users\\OAO\\AppData\\Local\\Temp\\tmpm9xv0z8i\\assets\n"
     ]
    },
    {
     "output_type": "execute_result",
     "data": {
      "text/plain": [
       "116592"
      ]
     },
     "metadata": {},
     "execution_count": 12
    }
   ],
   "metadata": {}
  },
  {
   "cell_type": "code",
   "execution_count": null,
   "source": [],
   "outputs": [],
   "metadata": {}
  },
  {
   "cell_type": "markdown",
   "source": [],
   "metadata": {}
  }
 ],
 "metadata": {
  "orig_nbformat": 4,
  "language_info": {
   "name": "python",
   "version": "3.8.5",
   "mimetype": "text/x-python",
   "codemirror_mode": {
    "name": "ipython",
    "version": 3
   },
   "pygments_lexer": "ipython3",
   "nbconvert_exporter": "python",
   "file_extension": ".py"
  },
  "kernelspec": {
   "name": "python3",
   "display_name": "Python 3.8.5 64-bit ('env': venv)"
  },
  "interpreter": {
   "hash": "c6c895288ceca3ef3260d3a4b37866a7c566509edde123d01a85a45bafbce475"
  }
 },
 "nbformat": 4,
 "nbformat_minor": 2
}